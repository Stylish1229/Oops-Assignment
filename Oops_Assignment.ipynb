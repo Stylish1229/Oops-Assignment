{
  "nbformat": 4,
  "nbformat_minor": 0,
  "metadata": {
    "colab": {
      "provenance": []
    },
    "kernelspec": {
      "name": "python3",
      "display_name": "Python 3"
    },
    "language_info": {
      "name": "python"
    }
  },
  "cells": [
    {
      "cell_type": "markdown",
      "source": [
        "1.  What is Object-Oriented Programming (OOP)?\n",
        "-  Object-Oriented Programming (OOP) is a programming paradigm that organizes software design around objects, which are instances of classes. It emphasizes encapsulation, inheritance, polymorphism, and abstraction to create modular, reusable, and maintainable code.\n",
        "\n"
      ],
      "metadata": {
        "id": "qavrH4jHBQt7"
      }
    },
    {
      "cell_type": "markdown",
      "source": [
        "2.  What is a class in OOP ?\n",
        "- A class in OOP is a blueprint or template for creating objects. It defines the properties (attributes) and behaviors (methods) that the objects created from the class will have."
      ],
      "metadata": {
        "id": "ggzBgWuHBwn7"
      }
    },
    {
      "cell_type": "markdown",
      "source": [
        "3.  What is an object in OOP ?\n",
        "- An object in OOP is an instance of a class. It represents a specific entity with defined properties (attributes) and behaviors (methods) based on the class blueprint."
      ],
      "metadata": {
        "id": "XH894QQ3CA-_"
      }
    },
    {
      "cell_type": "markdown",
      "source": [
        "4. What is the difference between abstraction and encapsulation ?\n",
        "- **Abstraction** focuses on hiding complex implementation details and showing only essential features, simplifying interaction. **Encapsulation** bundles data (attributes) and methods (behaviors) into a single unit (class) and restricts access to internal details, ensuring data integrity."
      ],
      "metadata": {
        "id": "JM88bum4CMkC"
      }
    },
    {
      "cell_type": "markdown",
      "source": [
        "5.  What are dunder methods in Python ?\n",
        "- Dunder methods (double underscore methods) in Python are special predefined methods with double underscores (e.g., `__init__`, `__str__`, `__add__`). They define behaviors for built-in operations like object initialization, string representation, and arithmetic, enabling custom class functionality."
      ],
      "metadata": {
        "id": "0x5J_CbiCY7R"
      }
    },
    {
      "cell_type": "markdown",
      "source": [
        "6.  Explain the concept of inheritance in OOP ?\n",
        "- Inheritance in OOP allows a class (child/subclass) to inherit attributes and methods from another class (parent/superclass). It promotes code reuse, hierarchy, and extensibility, enabling the child class to add or override functionality while retaining shared behavior."
      ],
      "metadata": {
        "id": "yJq6uIz4CnkI"
      }
    },
    {
      "cell_type": "markdown",
      "source": [
        "7.  What is polymorphism in OOP ?\n",
        "- Polymorphism in OOP allows objects of different classes to be treated as objects of a common superclass. It enables methods to behave differently based on the object type, typically achieved through method overriding (inheritance) or interfaces, promoting flexibility and extensibility."
      ],
      "metadata": {
        "id": "r0pBGkxOC6oh"
      }
    },
    {
      "cell_type": "markdown",
      "source": [
        "8.  How is encapsulation achieved in Python ?\n",
        "- Encapsulation in Python is achieved using:\n",
        "\n",
        "1. Access Modifiers:\n",
        "   - _ (single underscore) for protected members (convention-based, not enforced).\n",
        "   - __ (double underscore) for private members (name mangling).\n",
        "\n",
        "2. Getters and Setters: Using  `@property` and `@<attribute>.setter` to control access and modification of attributes.\n",
        "\n",
        "3. Methods: Bundling data and methods within a class to restrict direct access to internal details."
      ],
      "metadata": {
        "id": "dzvu8pMsDPsP"
      }
    },
    {
      "cell_type": "markdown",
      "source": [
        "9.  What is a constructor in Python ?\n",
        "- A constructor in Python is a special method called __init__ that is automatically invoked when an object of a class is created. It initializes the object's attributes and sets up the initial state of the object."
      ],
      "metadata": {
        "id": "zG_f7ZcbD2HA"
      }
    },
    {
      "cell_type": "markdown",
      "source": [
        "10.  What are class and static methods in Python ?\n",
        "- In Python:\n",
        "\n",
        "1. Class Method:\n",
        "   - Defined with `@classmethod`.\n",
        "   - Takes `cls` (class) as the first parameter.\n",
        "   - Can access or modify class-level attributes.\n",
        "   - Called on the class itself or an instance.\n",
        "\n",
        "   \n",
        "\n",
        "2. Static Method:\n",
        "   - Defined with `@staticmethod`.\n",
        "   - Does not take `self` or `cls` as parameters.\n",
        "   - Cannot access or modify class or instance attributes.\n",
        "   - Behaves like a regular function but belongs to the class's namespace.\n",
        "\n",
        "  "
      ],
      "metadata": {
        "id": "FBlXJjF7EQRC"
      }
    },
    {
      "cell_type": "markdown",
      "source": [
        "11.  What is method overloading in Python ?\n",
        "- Python does not support method overloading (defining multiple methods with the same name but different parameters) like other languages. Instead, you can achieve similar functionality using:\n",
        "\n",
        "1. Default Arguments:\n",
        "   \n",
        "\n",
        "2. Variable-Length Arguments:\n",
        "   \n",
        "\n",
        "Python prioritizes method overriding (redefining a method in a subclass) over overloading."
      ],
      "metadata": {
        "id": "Pg1av80vFF90"
      }
    },
    {
      "cell_type": "markdown",
      "source": [
        "12.  What is method overriding in OOP?\n",
        "- Method overriding in OOP occurs when a subclass provides a specific implementation of a method that is already defined in its superclass. The overridden method in the subclass has the same name, parameters, and return type as the method in the superclass, allowing the subclass to customize or extend its behavior."
      ],
      "metadata": {
        "id": "c_7tJ4UFFmJ1"
      }
    },
    {
      "cell_type": "markdown",
      "source": [
        "13. What is a property decorator in PythoN ?\n",
        "- The @property decorator in Python allows you to define a method as a \"getter\" for a class attribute, enabling controlled access to it. It is often used to encapsulate attribute access and add validation or computation logic."
      ],
      "metadata": {
        "id": "giqHUB-bF3Xf"
      }
    },
    {
      "cell_type": "markdown",
      "source": [
        "14.  Why is polymorphism important in OOP ?\n",
        "- Polymorphism is important in OOP because it allows objects of different classes to be treated as objects of a common superclass, enabling:\n",
        "\n",
        "- Flexibility: Code can work with objects of multiple types through a unified interface.\n",
        "\n",
        "- Extensibility: New classes can be added without modifying existing code.\n",
        "\n",
        "- Code Reusability: Shared behavior can be defined in a superclass and reused in subclasses.\n",
        "\n",
        "- Simplified Design: Promotes cleaner, more modular, and maintainable code.-"
      ],
      "metadata": {
        "id": "qhYlExVPGHZX"
      }
    },
    {
      "cell_type": "markdown",
      "source": [
        "15.  What is an abstract class in Python ?\n",
        "- An abstract class in Python is a class that cannot be instantiated on its own and is designed to be a blueprint for other classes. It typically contains one or more abstract methods (methods declared but not implemented) that must be overridden by its subclasses."
      ],
      "metadata": {
        "id": "v0jLrJDKGybR"
      }
    },
    {
      "cell_type": "markdown",
      "source": [
        "16. What are the advantages of OOP ?\n",
        "- The advantages of **OOP** (Object-Oriented Programming) include:\n",
        "\n",
        "-  Modularity : Code is organized into reusable, self-contained objects.\n",
        "-  Reusability : Classes and inheritance promote code reuse.\n",
        "-  Maintainability : Encapsulation and abstraction simplify updates and debugging.\n",
        "- Scalability : Easier to manage and extend large codebases.\n",
        "- Flexibility : Polymorphism allows objects to be used interchangeably.\n",
        "-  Simplicity : Models real-world entities, making code more intuitive and easier to understand.\n",
        "\n",
        "These features make OOP a powerful paradigm for building complex, scalable, and maintainable software systems."
      ],
      "metadata": {
        "id": "_E3VSqXLHErj"
      }
    },
    {
      "cell_type": "markdown",
      "source": [
        "17.  What is the difference between a class variable and an instance variable ?\n",
        "- The difference between a class variable and an instance variable in Python is:\n",
        "\n",
        "- Class Variable:\n",
        "\n",
        "- Shared across all instances of the class.\n",
        "\n",
        "- Defined directly within the class, outside any method.\n",
        "\n",
        "- Accessed using the class name or an instance.\n",
        "\n",
        "- Used for attributes common to all instances.\n",
        "\n",
        "2. Instance Variable:\n",
        "\n",
        "- Unique to each instance of the class.\n",
        "\n",
        "- Defined inside methods (typically __init__).\n",
        "\n",
        "- Accessed only through an instance.\n",
        "\n",
        "- Used for attributes specific to each instance."
      ],
      "metadata": {
        "id": "tZ5FW3k4HteV"
      }
    },
    {
      "cell_type": "markdown",
      "source": [
        "18. What is multiple inheritance in Python ?\n",
        "- Multiple inheritance in Python allows a class to inherit attributes and methods from more than one parent class. This enables the derived class to combine and reuse functionality from multiple sources. While powerful, it can lead to complexity and conflicts, such as the diamond problem, where ambiguity arises if parent classes have overlapping methods or attributes."
      ],
      "metadata": {
        "id": "PXFy_vs8IVkh"
      }
    },
    {
      "cell_type": "markdown",
      "source": [
        "19.  Explain the purpose of ''__str__' and '__repr__'' methods in Python ?\n",
        "- The `__str__ `and `__repr__` methods in Python are used to define string representations of objects.\n",
        "\n",
        "- `__str__`: Provides a user-friendly, readable description of the object, intended for end-users. It is called by the `str()` function and `print()`.\n",
        "- `__repr__`: Offers a detailed, unambiguous representation of the object, primarily for debugging and development. It is called by the `repr()` function and used in the interactive interpreter. If `__str__` is not defined, `__repr__` acts as a fallback.\n"
      ],
      "metadata": {
        "id": "gXtZqLJkIzIN"
      }
    },
    {
      "cell_type": "markdown",
      "source": [
        "20.  What is the significance of the 'super()' function in Python ?\n",
        "- The 'super()' function in Python is used to call a method from a parent or sibling class in the inheritance hierarchy. It is particularly useful in scenarios involving inheritance, as it allows for:\n",
        "\n",
        "- Method Overriding : Accessing and extending the functionality of a method defined in a parent class without explicitly naming the parent class.\n",
        "-  Multiple Inheritance : Resolving method calls in a consistent order, following the Method Resolution Order (MRO), which helps avoid conflicts and ensures proper method execution.\n",
        "\n",
        "By using 'super()', you can write more maintainable and reusable code, especially in complex class hierarchies."
      ],
      "metadata": {
        "id": "KUpXmpUsJWbv"
      }
    },
    {
      "cell_type": "markdown",
      "source": [
        "21. What is the significance of the __del__ method in Python ?\n",
        "- The `__del__` method in Python is a special method known as the destructor. It is automatically called when an object is about to be destroyed, typically when it is no longer referenced or when the program terminates. The significance of `__del__` includes:\n",
        "\n",
        "-  Resource Cleanup: It can be used to release resources such as file handles, network connections, or other system resources that the object may be holding.\n",
        "-  Custom Cleanup Logic: Allows for custom cleanup actions that need to be performed before the object is garbage collected.\n",
        "\n",
        "However, the timing of when `__del__` is called is not guaranteed, as it depends on the garbage collector's behavior. Therefore, it is generally better to use context managers (`with` statements) or explicit cleanup methods for resource management."
      ],
      "metadata": {
        "id": "QHwSVDQjJ6eD"
      }
    },
    {
      "cell_type": "markdown",
      "source": [
        "22.  What is the difference between @staticmethod and @classmethod in Python ?\n",
        "- In Python, @staticmethod and @classmethod are decorators used to define methods within a class, but they serve different purposes:\n",
        "\n",
        "- @staticmethod:\n",
        "\n",
        "- No Implicit Arguments: Does not take any special first argument (i.e., neither self nor cls).\n",
        "\n",
        "- Usage: Acts like a regular function but belongs to the class's namespace. It is used for utility functions that do not depend on instance or class state.\n",
        "\n",
        "- @classmethod:\n",
        "\n",
        "- First Argument: Takes the class itself as the first argument, conventionally named cls.\n",
        "\n",
        "- Usage: Can access or modify class state. It is often used for factory methods that create instances of the class or to manipulate class-level data.\n",
        "\n",
        "- In summary, use @staticmethod for methods that do not need to access class or instance data, and use @classmethod for methods that need to interact with the class itself."
      ],
      "metadata": {
        "id": "obIdyEioKP4X"
      }
    },
    {
      "cell_type": "markdown",
      "source": [
        "23.  How does polymorphism work in Python with inheritance ?\n",
        "- Polymorphism in Python, particularly with inheritance, allows objects of different classes to be treated as objects of a common superclass. This means that a method can behave differently based on the object that calls it. Here's how polymorphism works in Python with inheritance:\n",
        "-  Method Overriding\n",
        "When a subclass provides a specific implementation of a method that is already defined in its superclass, it is called method overriding.\n",
        "\n",
        "- The overridden method in the subclass is called instead of the method in the superclass when the method is invoked on an instance of the subclass.\n",
        "\n",
        "-  Duck Typing\n",
        "Python uses duck typing for polymorphism, meaning the type or class of an object is determined by its behavior (methods and properties) rather than its explicit type.\n",
        "- If an object has the required method or behavior, it can be used regardless of its class.\n",
        "\n",
        "- Inheritance and Polymorphism\n",
        "Polymorphism is often used with inheritance to allow a subclass to provide a specific implementation of a method defined in the superclass.\n",
        "\n",
        "The superclass defines a common interface, and subclasses implement their own versions of that interface.\n",
        "\n",
        "- Abstract Base Classes (ABCs)\n",
        "Python's abc module allows you to define abstract base classes that enforce a common interface for subclasses.\n",
        "\n",
        "Abstract methods in the base class must be implemented by subclasses, ensuring polymorphism.\n",
        "\n",
        "- Key Takeaways:\n",
        "\n",
        "- Polymorphism in Python allows objects of different classes to be treated as objects of a common superclass.\n",
        "\n",
        "- Method overriding enables subclasses to provide specific implementations of methods defined in the superclass.\n",
        "\n",
        "- Duck typing allows objects to be used based on their behavior rather than their explicit type.\n",
        "\n",
        "- Abstract base classes can enforce a common interface for polymorphism."
      ],
      "metadata": {
        "id": "hLvTnCHZKyNX"
      }
    },
    {
      "cell_type": "markdown",
      "source": [
        "24. What is method chaining in Python OOP ?\n",
        "- Method chaining in Python (and object-oriented programming in general) is a technique where multiple methods are called on an object in a single statement, with each method returning the object itself (self). This allows for a concise and readable way to perform multiple operations on the same object.\n",
        "- Each method in the class returns self (the current object) after performing its operation.\n",
        "\n",
        "- This enables the next method in the chain to be called on the same object."
      ],
      "metadata": {
        "id": "R-_64wLgMULd"
      }
    },
    {
      "cell_type": "markdown",
      "source": [
        "25.  What is the purpose of the __call__ method in Python ?\n",
        "- The __call__ method in Python is a special method that allows an instance of a class to be called as a function. When you define the __call__ method in a class, instances of that class become callable objects, meaning you can use them like functions by adding parentheses () after the instance name.\n",
        "\n",
        "- Purpose of __call__\n",
        "\n",
        "- Make Objects Callable : It enables instances of a class to be invoked as if they were functions.\n",
        "\n",
        "- Maintain State : Since the object retains its state between calls, it can be useful for maintaining context or configuration.\n",
        "\n",
        "- Implement Functors : In Python, objects with a __call__ method are often referred to as functors or callable objects. They are useful for creating objects that behave like functions but can store additional data or behavior."
      ],
      "metadata": {
        "id": "nypVPi5DM503"
      }
    },
    {
      "cell_type": "code",
      "source": [
        "# Parent class\n",
        "class Animal:\n",
        "    def speak(self):\n",
        "        print(\"This animal makes a sound.\")\n",
        "\n",
        "# Child class\n",
        "class Dog(Animal):\n",
        "    def speak(self):\n",
        "        print(\"Bark!\")\n",
        "\n",
        "# Example usage\n",
        "if __name__ == \"__main__\":\n",
        "    animal = Animal()\n",
        "    animal.speak()  # Output: This animal makes a sound.\n",
        "\n",
        "    dog = Dog()\n",
        "    dog.speak()     # Output: Bark!"
      ],
      "metadata": {
        "colab": {
          "base_uri": "https://localhost:8080/"
        },
        "id": "NvWvPU4cOEFm",
        "outputId": "bd737556-de7e-4ca1-9f30-442e0aed720b"
      },
      "execution_count": 1,
      "outputs": [
        {
          "output_type": "stream",
          "name": "stdout",
          "text": [
            "This animal makes a sound.\n",
            "Bark!\n"
          ]
        }
      ]
    },
    {
      "cell_type": "code",
      "source": [
        "from abc import ABC, abstractmethod\n",
        "import math\n",
        "\n",
        "# Abstract class\n",
        "class Shape(ABC):\n",
        "    @abstractmethod\n",
        "    def area(self):\n",
        "        pass\n",
        "\n",
        "# Derived class for Circle\n",
        "class Circle(Shape):\n",
        "    def __init__(self, radius):\n",
        "        self.radius = radius\n",
        "\n",
        "    def area(self):\n",
        "        return math.pi * (self.radius ** 2)\n",
        "\n",
        "# Derived class for Rectangle\n",
        "class Rectangle(Shape):\n",
        "    def __init__(self, width, height):\n",
        "        self.width = width\n",
        "        self.height = height\n",
        "\n",
        "    def area(self):\n",
        "        return self.width * self.height\n",
        "\n",
        "# Example usage\n",
        "if __name__ == \"__main__\":\n",
        "    circle = Circle(5)\n",
        "    print(f\"Area of the circle: {circle.area()}\")  # Output: Area of the circle: 78.53981633974483\n",
        "\n",
        "    rectangle = Rectangle(4, 6)\n",
        "    print(f\"Area of the rectangle: {rectangle.area()}\")  # Output: Area of the rectangle: 24"
      ],
      "metadata": {
        "colab": {
          "base_uri": "https://localhost:8080/"
        },
        "id": "kkGrHYigOF5T",
        "outputId": "b5caf138-472b-43ff-f635-66e9aedadf03"
      },
      "execution_count": 2,
      "outputs": [
        {
          "output_type": "stream",
          "name": "stdout",
          "text": [
            "Area of the circle: 78.53981633974483\n",
            "Area of the rectangle: 24\n"
          ]
        }
      ]
    },
    {
      "cell_type": "code",
      "source": [
        "# Base class\n",
        "class Vehicle:\n",
        "    def __init__(self, vehicle_type):\n",
        "        self.vehicle_type = vehicle_type\n",
        "\n",
        "    def display_type(self):\n",
        "        print(f\"Vehicle Type: {self.vehicle_type}\")\n",
        "\n",
        "# Derived class\n",
        "class Car(Vehicle):\n",
        "    def __init__(self, vehicle_type, brand):\n",
        "        super().__init__(vehicle_type)  # Call the constructor of Vehicle\n",
        "        self.brand = brand\n",
        "\n",
        "    def display_info(self):\n",
        "        self.display_type()  # Call the method from Vehicle\n",
        "        print(f\"Car Brand: {self.brand}\")\n",
        "\n",
        "# Further derived class\n",
        "class ElectricCar(Car):\n",
        "    def __init__(self, vehicle_type, brand, battery_capacity):\n",
        "        super().__init__(vehicle_type, brand)  # Call the constructor of Car\n",
        "        self.battery_capacity = battery_capacity\n",
        "\n",
        "    def display_electric_info(self):\n",
        "        self.display_info()  # Call the method from Car\n",
        "        print(f\"Battery Capacity: {self.battery_capacity} kWh\")\n",
        "\n",
        "# Example usage\n",
        "if __name__ == \"__main__\":\n",
        "    vehicle = Vehicle(\"General Vehicle\")\n",
        "    vehicle.display_type()  # Output: Vehicle Type: General Vehicle\n",
        "\n",
        "    car = Car(\"Car\", \"Toyota\")\n",
        "    car.display_info()  # Output: Vehicle Type: Car, Car Brand: Toyota\n",
        "\n",
        "    electric_car = ElectricCar(\"Electric Car\", \"Tesla\", 75)\n",
        "    electric_car.display_electric_info()  # Output: Vehicle Type: Electric Car, Car Brand: Tesla, Battery Capacity: 75 kWh"
      ],
      "metadata": {
        "colab": {
          "base_uri": "https://localhost:8080/"
        },
        "id": "7APpIczIOdg9",
        "outputId": "c28d4ff8-5447-4b1c-99ca-19fb25a44f1e"
      },
      "execution_count": 3,
      "outputs": [
        {
          "output_type": "stream",
          "name": "stdout",
          "text": [
            "Vehicle Type: General Vehicle\n",
            "Vehicle Type: Car\n",
            "Car Brand: Toyota\n",
            "Vehicle Type: Electric Car\n",
            "Car Brand: Tesla\n",
            "Battery Capacity: 75 kWh\n"
          ]
        }
      ]
    },
    {
      "cell_type": "code",
      "source": [
        "# Base class\n",
        "class Bird:\n",
        "    def fly(self):\n",
        "        print(\"This bird can fly.\")\n",
        "\n",
        "# Derived class for Sparrow\n",
        "class Sparrow(Bird):\n",
        "    def fly(self):\n",
        "        print(\"Sparrow flies high in the sky!\")\n",
        "\n",
        "# Derived class for Penguin\n",
        "class Penguin(Bird):\n",
        "    def fly(self):\n",
        "        print(\"Penguins cannot fly, but they can swim!\")\n",
        "\n",
        "# Function to demonstrate polymorphism\n",
        "def make_bird_fly(bird):\n",
        "    bird.fly()\n",
        "\n",
        "# Example usage\n",
        "if __name__ == \"__main__\":\n",
        "    sparrow = Sparrow()\n",
        "    penguin = Penguin()\n",
        "\n",
        "    make_bird_fly(sparrow)  # Output: Sparrow flies high in the sky!\n",
        "    make_bird_fly(penguin)  # Output: Penguins cannot fly, but they can swim!"
      ],
      "metadata": {
        "colab": {
          "base_uri": "https://localhost:8080/"
        },
        "id": "G5uUHcNOOgJK",
        "outputId": "9e66707a-5939-4d9b-bbb0-9642d48cd75b"
      },
      "execution_count": 4,
      "outputs": [
        {
          "output_type": "stream",
          "name": "stdout",
          "text": [
            "Sparrow flies high in the sky!\n",
            "Penguins cannot fly, but they can swim!\n"
          ]
        }
      ]
    },
    {
      "cell_type": "code",
      "source": [
        "class BankAccount:\n",
        "    def __init__(self, initial_balance=0):\n",
        "        self.__balance = initial_balance  # Private attribute\n",
        "\n",
        "    def deposit(self, amount):\n",
        "        if amount > 0:\n",
        "            self.__balance += amount\n",
        "            print(f\"Deposited: ${amount:.2f}\")\n",
        "        else:\n",
        "            print(\"Deposit amount must be positive.\")\n",
        "\n",
        "    def withdraw(self, amount):\n",
        "        if 0 < amount <= self.__balance:\n",
        "            self.__balance -= amount\n",
        "            print(f\"Withdrew: ${amount:.2f}\")\n",
        "        else:\n",
        "            print(\"Insufficient funds or invalid withdrawal amount.\")\n",
        "\n",
        "    def check_balance(self):\n",
        "        print(f\"Current balance: ${self.__balance:.2f}\")\n",
        "\n",
        "# Example usage\n",
        "if __name__ == \"__main__\":\n",
        "    account = BankAccount(100)  # Create an account with an initial balance of $100\n",
        "\n",
        "    account.check_balance()  # Output: Current balance: $100.00\n",
        "\n",
        "    account.deposit(50)       # Output: Deposited: $50.00\n",
        "    account.check_balance()   # Output: Current balance: $150.00\n",
        "\n",
        "    account.withdraw(30)      # Output: Withdrew: $30.00\n",
        "    account.check_balance()    # Output: Current balance: $120.00\n",
        "\n",
        "    account.withdraw(200)     # Output: Insufficient funds or invalid withdrawal amount.\n",
        "    account.deposit(-10)      # Output: Deposit amount must be positive."
      ],
      "metadata": {
        "colab": {
          "base_uri": "https://localhost:8080/"
        },
        "id": "AQZKQc9nOsaU",
        "outputId": "7e9b0928-bba4-41cb-982b-06f679ba7694"
      },
      "execution_count": 5,
      "outputs": [
        {
          "output_type": "stream",
          "name": "stdout",
          "text": [
            "Current balance: $100.00\n",
            "Deposited: $50.00\n",
            "Current balance: $150.00\n",
            "Withdrew: $30.00\n",
            "Current balance: $120.00\n",
            "Insufficient funds or invalid withdrawal amount.\n",
            "Deposit amount must be positive.\n"
          ]
        }
      ]
    },
    {
      "cell_type": "code",
      "source": [
        "# Base class\n",
        "class Instrument:\n",
        "    def play(self):\n",
        "        raise NotImplementedError(\"Subclasses must implement this method\")\n",
        "\n",
        "# Derived class for Guitar\n",
        "class Guitar(Instrument):\n",
        "    def play(self):\n",
        "        print(\"Strumming the guitar!\")\n",
        "\n",
        "# Derived class for Piano\n",
        "class Piano(Instrument):\n",
        "    def play(self):\n",
        "        print(\"Playing the piano!\")\n",
        "\n",
        "# Function to demonstrate runtime polymorphism\n",
        "def perform(instrument):\n",
        "    instrument.play()\n",
        "\n",
        "# Example usage\n",
        "if __name__ == \"__main__\":\n",
        "    guitar = Guitar()\n",
        "    piano = Piano()\n",
        "\n",
        "    perform(guitar)  # Output: Strumming the guitar!\n",
        "    perform(piano)   # Output: Playing the piano!"
      ],
      "metadata": {
        "colab": {
          "base_uri": "https://localhost:8080/"
        },
        "id": "V8MCR4IEPAKA",
        "outputId": "1ef971a9-4349-49ca-b0aa-8ff1e445a1f9"
      },
      "execution_count": 6,
      "outputs": [
        {
          "output_type": "stream",
          "name": "stdout",
          "text": [
            "Strumming the guitar!\n",
            "Playing the piano!\n"
          ]
        }
      ]
    },
    {
      "cell_type": "code",
      "source": [
        "class MathOperations:\n",
        "    @classmethod\n",
        "    def add_numbers(cls, a, b):\n",
        "        \"\"\"Class method to add two numbers.\"\"\"\n",
        "        return a + b\n",
        "\n",
        "    @staticmethod\n",
        "    def subtract_numbers(a, b):\n",
        "        \"\"\"Static method to subtract two numbers.\"\"\"\n",
        "        return a - b\n",
        "\n",
        "# Example usage\n",
        "if __name__ == \"__main__\":\n",
        "    # Using the class method to add numbers\n",
        "    sum_result = MathOperations.add_numbers(10, 5)\n",
        "    print(f\"Sum: {sum_result}\")  # Output: Sum: 15\n",
        "\n",
        "    # Using the static method to subtract numbers\n",
        "    difference_result = MathOperations.subtract_numbers(10, 5)\n",
        "    print(f\"Difference: {difference_result}\")  # Output: Difference: 5"
      ],
      "metadata": {
        "colab": {
          "base_uri": "https://localhost:8080/"
        },
        "id": "dMTT65xdPIu3",
        "outputId": "6d44034a-0320-4b1b-a2ee-4d872dc7a6f7"
      },
      "execution_count": 7,
      "outputs": [
        {
          "output_type": "stream",
          "name": "stdout",
          "text": [
            "Sum: 15\n",
            "Difference: 5\n"
          ]
        }
      ]
    },
    {
      "cell_type": "code",
      "source": [
        "class Person:\n",
        "    # Class variable to keep track of the number of Person instances\n",
        "    total_persons = 0\n",
        "\n",
        "    def __init__(self, name):\n",
        "        self.name = name\n",
        "        # Increment the count of total persons whenever a new instance is created\n",
        "        Person.total_persons += 1\n",
        "\n",
        "    @classmethod\n",
        "    def count_persons(cls):\n",
        "        \"\"\"Class method to return the total number of Person instances created.\"\"\"\n",
        "        return cls.total_persons\n",
        "\n",
        "# Example usage\n",
        "if __name__ == \"__main__\":\n",
        "    person1 = Person(\"Alice\")\n",
        "    person2 = Person(\"Bob\")\n",
        "    person3 = Person(\"Charlie\")\n",
        "\n",
        "    print(f\"Total persons created: {Person.count_persons()}\")  # Output: Total persons created: 3"
      ],
      "metadata": {
        "colab": {
          "base_uri": "https://localhost:8080/"
        },
        "id": "d9kf5Z7oPSZL",
        "outputId": "3f71be3f-88a9-4e91-c5e2-50697dd9ccdb"
      },
      "execution_count": 8,
      "outputs": [
        {
          "output_type": "stream",
          "name": "stdout",
          "text": [
            "Total persons created: 3\n"
          ]
        }
      ]
    },
    {
      "cell_type": "code",
      "source": [
        "class Fraction:\n",
        "    def __init__(self, numerator, denominator):\n",
        "        if denominator == 0:\n",
        "            raise ValueError(\"Denominator cannot be zero.\")\n",
        "        self.numerator = numerator\n",
        "        self.denominator = denominator\n",
        "\n",
        "    def __str__(self):\n",
        "        return f\"{self.numerator}/{self.denominator}\"\n",
        "\n",
        "# Example usage:\n",
        "if __name__ == \"__main__\":\n",
        "    fraction = Fraction(3, 4)\n",
        "    print(fraction)  # Output: 3/4"
      ],
      "metadata": {
        "colab": {
          "base_uri": "https://localhost:8080/"
        },
        "id": "yL8h07pCPdKk",
        "outputId": "b17ea11f-b856-4169-c656-084e1537e5c7"
      },
      "execution_count": 9,
      "outputs": [
        {
          "output_type": "stream",
          "name": "stdout",
          "text": [
            "3/4\n"
          ]
        }
      ]
    },
    {
      "cell_type": "code",
      "source": [
        "class Vector:\n",
        "    def __init__(self, x, y):\n",
        "        self.x = x\n",
        "        self.y = y\n",
        "\n",
        "    def __add__(self, other):\n",
        "        if isinstance(other, Vector):\n",
        "            return Vector(self.x + other.x, self.y + other.y)\n",
        "        return NotImplemented\n",
        "\n",
        "    def __str__(self):\n",
        "        return f\"({self.x}, {self.y})\"\n",
        "\n",
        "# Example usage:\n",
        "if __name__ == \"__main__\":\n",
        "    vector1 = Vector(2, 3)\n",
        "    vector2 = Vector(4, 5)\n",
        "    result_vector = vector1 + vector2\n",
        "    print(f\"Vector 1: {vector1}\")  # Output: Vector 1: (2, 3)\n",
        "    print(f\"Vector 2: {vector2}\")  # Output: Vector 2: (4, 5)\n",
        "    print(f\"Result Vector: {result_vector}\")  # Output: Result Vector: (6, 8)"
      ],
      "metadata": {
        "colab": {
          "base_uri": "https://localhost:8080/"
        },
        "id": "C2MMTEphP9Vu",
        "outputId": "36a33653-68fd-4495-bf29-0e329dce24ed"
      },
      "execution_count": 10,
      "outputs": [
        {
          "output_type": "stream",
          "name": "stdout",
          "text": [
            "Vector 1: (2, 3)\n",
            "Vector 2: (4, 5)\n",
            "Result Vector: (6, 8)\n"
          ]
        }
      ]
    },
    {
      "cell_type": "code",
      "source": [
        "class Person:\n",
        "    def __init__(self, name, age):\n",
        "        self.name = name\n",
        "        self.age = age\n",
        "\n",
        "    def greet(self):\n",
        "        print(f\"Hello, my name is {self.name} and I am {self.age} years old.\")\n",
        "\n",
        "# Example usage:\n",
        "if __name__ == \"__main__\":\n",
        "    person1 = Person(\"Alice\", 30)\n",
        "    person1.greet()  # Output: Hello, my name is Alice and I am 30 years old.\n",
        "\n",
        "    person2 = Person(\"Bob\", 25)\n",
        "    person2.greet()  # Output: Hello, my name is Bob and I am 25 years old."
      ],
      "metadata": {
        "colab": {
          "base_uri": "https://localhost:8080/"
        },
        "id": "S__6tbdAQGer",
        "outputId": "f6424bea-9f62-4b71-d4de-f31d81952b14"
      },
      "execution_count": 11,
      "outputs": [
        {
          "output_type": "stream",
          "name": "stdout",
          "text": [
            "Hello, my name is Alice and I am 30 years old.\n",
            "Hello, my name is Bob and I am 25 years old.\n"
          ]
        }
      ]
    },
    {
      "cell_type": "code",
      "source": [
        "class Student:\n",
        "    def __init__(self, name, grades):\n",
        "        self.name = name\n",
        "        self.grades = grades  # Expecting grades to be a list of numbers\n",
        "\n",
        "    def average_grade(self):\n",
        "        if not self.grades:  # Check if the grades list is empty\n",
        "            return 0\n",
        "        return sum(self.grades) / len(self.grades)\n",
        "\n",
        "# Example usage:\n",
        "if __name__ == \"__main__\":\n",
        "    student1 = Student(\"Alice\", [85, 90, 78, 92])\n",
        "    print(f\"{student1.name}'s average grade: {student1.average_grade():.2f}\")  # Output: Alice's average grade: 86.25\n",
        "\n",
        "    student2 = Student(\"Bob\", [70, 75, 80])\n",
        "    print(f\"{student2.name}'s average grade: {student2.average_grade():.2f}\")  # Output: Bob's average grade: 75.00\n",
        "\n",
        "    student3 = Student(\"Charlie\", [])\n",
        "    print(f\"{student3.name}'s average grade: {student3.average_grade():.2f}\")  # Output: Charlie's average grade: 0.00"
      ],
      "metadata": {
        "colab": {
          "base_uri": "https://localhost:8080/"
        },
        "id": "u8DZnLZ_QQvo",
        "outputId": "5a1b83b9-45d4-4807-f537-ffe3cf893609"
      },
      "execution_count": 12,
      "outputs": [
        {
          "output_type": "stream",
          "name": "stdout",
          "text": [
            "Alice's average grade: 86.25\n",
            "Bob's average grade: 75.00\n",
            "Charlie's average grade: 0.00\n"
          ]
        }
      ]
    },
    {
      "cell_type": "code",
      "source": [
        "class Rectangle:\n",
        "    def __init__(self):\n",
        "        self.width = 0\n",
        "        self.height = 0\n",
        "\n",
        "    def set_dimensions(self, width, height):\n",
        "        self.width = width\n",
        "        self.height = height\n",
        "\n",
        "    def area(self):\n",
        "        return self.width * self.height\n",
        "\n",
        "# Example usage:\n",
        "if __name__ == \"__main__\":\n",
        "    rectangle = Rectangle()\n",
        "    rectangle.set_dimensions(5, 10)\n",
        "    print(f\"Width: {rectangle.width}, Height: {rectangle.height}, Area: {rectangle.area()}\")  # Output: Width: 5, Height: 10, Area: 50\n",
        "\n",
        "    rectangle.set_dimensions(7, 3)\n",
        "    print(f\"Width: {rectangle.width}, Height: {rectangle.height}, Area: {rectangle.area()}\")  # Output: Width: 7, Height: 3, Area: 21"
      ],
      "metadata": {
        "colab": {
          "base_uri": "https://localhost:8080/"
        },
        "id": "9GdwVOzhQnx4",
        "outputId": "3ae50c4f-b4a3-4d42-b446-e67bacbffb23"
      },
      "execution_count": 13,
      "outputs": [
        {
          "output_type": "stream",
          "name": "stdout",
          "text": [
            "Width: 5, Height: 10, Area: 50\n",
            "Width: 7, Height: 3, Area: 21\n"
          ]
        }
      ]
    },
    {
      "cell_type": "code",
      "source": [
        "class Employee:\n",
        "    def __init__(self, name, hours_worked, hourly_rate):\n",
        "        self.name = name\n",
        "        self.hours_worked = hours_worked\n",
        "        self.hourly_rate = hourly_rate\n",
        "\n",
        "    def calculate_salary(self):\n",
        "        return self.hours_worked * self.hourly_rate\n",
        "\n",
        "class Manager(Employee):\n",
        "    def __init__(self, name, hours_worked, hourly_rate, bonus):\n",
        "        super().__init__(name, hours_worked, hourly_rate)\n",
        "        self.bonus = bonus\n",
        "\n",
        "    def calculate_salary(self):\n",
        "        base_salary = super().calculate_salary()\n",
        "        return base_salary + self.bonus\n",
        "\n",
        "# Example usage:\n",
        "if __name__ == \"__main__\":\n",
        "    employee = Employee(\"Alice\", 40, 20)\n",
        "    print(f\"{employee.name}'s salary: ${employee.calculate_salary():.2f}\")  # Output: Alice's salary: $800.00\n",
        "\n",
        "    manager = Manager(\"Bob\", 40, 25, 500)\n",
        "    print(f\"{manager.name}'s salary: ${manager.calculate_salary():.2f}\")  # Output: Bob's salary: $1,500.00"
      ],
      "metadata": {
        "colab": {
          "base_uri": "https://localhost:8080/"
        },
        "id": "KB8Av_fuQqT9",
        "outputId": "f57b6fb4-68ba-42b1-a573-a8084ebc3968"
      },
      "execution_count": 14,
      "outputs": [
        {
          "output_type": "stream",
          "name": "stdout",
          "text": [
            "Alice's salary: $800.00\n",
            "Bob's salary: $1500.00\n"
          ]
        }
      ]
    },
    {
      "cell_type": "code",
      "source": [
        "class Product:\n",
        "    def __init__(self, name, price, quantity):\n",
        "        self.name = name\n",
        "        self.price = price\n",
        "        self.quantity = quantity\n",
        "\n",
        "    def total_price(self):\n",
        "        return self.price * self.quantity\n",
        "\n",
        "# Example usage:\n",
        "if __name__ == \"__main__\":\n",
        "    product1 = Product(\"Laptop\", 999.99, 2)\n",
        "    print(f\"Total price for {product1.quantity} {product1.name}(s): ${product1.total_price():.2f}\")  # Output: Total price for 2 Laptop(s): $1999.98\n",
        "\n",
        "    product2 = Product(\"Headphones\", 199.99, 5)\n",
        "    print(f\"Total price for {product2.quantity} {product2.name}(s): ${product2.total_price():.2f}\")  # Output: Total price for 5 Headphones(s): $999.95"
      ],
      "metadata": {
        "colab": {
          "base_uri": "https://localhost:8080/"
        },
        "id": "PpgSbDRqQ-no",
        "outputId": "38d695e8-70ea-4798-8c12-abcfec33f70d"
      },
      "execution_count": 15,
      "outputs": [
        {
          "output_type": "stream",
          "name": "stdout",
          "text": [
            "Total price for 2 Laptop(s): $1999.98\n",
            "Total price for 5 Headphones(s): $999.95\n"
          ]
        }
      ]
    },
    {
      "cell_type": "code",
      "source": [
        "from abc import ABC, abstractmethod\n",
        "\n",
        "class Animal(ABC):\n",
        "    @abstractmethod\n",
        "    def sound(self):\n",
        "        pass\n",
        "\n",
        "class Cow(Animal):\n",
        "    def sound(self):\n",
        "        return \"Moo\"\n",
        "\n",
        "class Sheep(Animal):\n",
        "    def sound(self):\n",
        "        return \"Baa\"\n",
        "\n",
        "# Example usage:\n",
        "if __name__ == \"__main__\":\n",
        "    cow = Cow()\n",
        "    sheep = Sheep()\n",
        "\n",
        "    print(f\"Cow sound: {cow.sound()}\")  # Output: Cow sound: Moo\n",
        "    print(f\"Sheep sound: {sheep.sound()}\")  # Output: Sheep sound: Baa"
      ],
      "metadata": {
        "colab": {
          "base_uri": "https://localhost:8080/"
        },
        "id": "dYasmP-vRAPx",
        "outputId": "362915ae-fa91-4a8d-edec-11e37acb4f6e"
      },
      "execution_count": 16,
      "outputs": [
        {
          "output_type": "stream",
          "name": "stdout",
          "text": [
            "Cow sound: Moo\n",
            "Sheep sound: Baa\n"
          ]
        }
      ]
    },
    {
      "cell_type": "code",
      "source": [
        "class Book:\n",
        "    def __init__(self, title, author, year_published):\n",
        "        self.title = title\n",
        "        self.author = author\n",
        "        self.year_published = year_published\n",
        "\n",
        "    def get_book_info(self):\n",
        "        return f\"'{self.title}' by {self.author}, published in {self.year_published}\"\n",
        "\n",
        "# Example usage:\n",
        "if __name__ == \"__main__\":\n",
        "    book1 = Book(\"To Kill a Mockingbird\", \"Harper Lee\", 1960)\n",
        "    print(book1.get_book_info())  # Output: 'To Kill a Mockingbird' by Harper Lee, published in 1960\n",
        "\n",
        "    book2 = Book(\"1984\", \"George Orwell\", 1949)\n",
        "    print(book2.get_book_info())  # Output: '1984' by George Orwell, published in 1949"
      ],
      "metadata": {
        "colab": {
          "base_uri": "https://localhost:8080/"
        },
        "id": "14VpeGwMRMPr",
        "outputId": "57c1a486-b7c3-404a-9bbb-ddba4f6494ec"
      },
      "execution_count": 17,
      "outputs": [
        {
          "output_type": "stream",
          "name": "stdout",
          "text": [
            "'To Kill a Mockingbird' by Harper Lee, published in 1960\n",
            "'1984' by George Orwell, published in 1949\n"
          ]
        }
      ]
    },
    {
      "cell_type": "code",
      "source": [
        "class House:\n",
        "    def __init__(self, address, price):\n",
        "        self.address = address\n",
        "        self.price = price\n",
        "\n",
        "    def get_info(self):\n",
        "        return f\"House located at {self.address} with a price of ${self.price:,.2f}\"\n",
        "\n",
        "class Mansion(House):\n",
        "    def __init__(self, address, price, number_of_rooms):\n",
        "        super().__init__(address, price)\n",
        "        self.number_of_rooms = number_of_rooms\n",
        "\n",
        "    def get_info(self):\n",
        "        base_info = super().get_info()\n",
        "        return f\"{base_info} and {self.number_of_rooms} rooms\"\n",
        "\n",
        "# Example usage:\n",
        "if __name__ == \"__main__\":\n",
        "    house = House(\"123 Main St\", 250000)\n",
        "    print(house.get_info())  # Output: House located at 123 Main St with a price of $250,000.00\n",
        "\n",
        "    mansion = Mansion(\"456 Luxury Ave\", 1500000, 10)\n",
        "    print(mansion.get_info())  # Output: House located at 456 Luxury Ave with a price of $1,500,000.00 and 10 rooms"
      ],
      "metadata": {
        "colab": {
          "base_uri": "https://localhost:8080/"
        },
        "id": "KVLwm6icRWUl",
        "outputId": "92892802-f6de-49b2-b902-03c91e68256f"
      },
      "execution_count": 18,
      "outputs": [
        {
          "output_type": "stream",
          "name": "stdout",
          "text": [
            "House located at 123 Main St with a price of $250,000.00\n",
            "House located at 456 Luxury Ave with a price of $1,500,000.00 and 10 rooms\n"
          ]
        }
      ]
    }
  ]
}